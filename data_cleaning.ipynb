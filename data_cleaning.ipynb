{
  "nbformat": 4,
  "nbformat_minor": 0,
  "metadata": {
    "colab": {
      "provenance": [],
      "gpuType": "T4",
      "toc_visible": true,
      "authorship_tag": "ABX9TyPtbcP8CNVNbEYO6WtPpmD/",
      "include_colab_link": true
    },
    "kernelspec": {
      "name": "python3",
      "display_name": "Python 3"
    },
    "language_info": {
      "name": "python"
    },
    "accelerator": "GPU"
  },
  "cells": [
    {
      "cell_type": "markdown",
      "metadata": {
        "id": "view-in-github",
        "colab_type": "text"
      },
      "source": [
        "<a href=\"https://colab.research.google.com/github/soykuvvetberat34/NLP_CourseNotes/blob/main/data_cleaning.ipynb\" target=\"_parent\"><img src=\"https://colab.research.google.com/assets/colab-badge.svg\" alt=\"Open In Colab\"/></a>"
      ]
    },
    {
      "cell_type": "code",
      "execution_count": null,
      "metadata": {
        "id": "-wIfbYTDXTH7"
      },
      "outputs": [],
      "source": [
        "from bs4 import BeautifulSoup\n",
        "from textblob import TextBlob\n",
        "import string\n",
        "import re\n",
        "\n",
        "#tüm boşlukları kaldırma / remove to spaces\n",
        "text=\"Hello ,     World!    2025\"\n",
        "cleaned_text=\" \".join(text.split())\n",
        "print(cleaned_text)\n",
        "\n",
        "#tüm harfleri küçültme / minimize the letters\n",
        "cleaned_text2=cleaned_text.lower()\n",
        "print(cleaned_text2)\n",
        "\n",
        "#noktalama işaretlerini kaldırma /remove the punctuation\n",
        "cleaned_text3=text.translate(str.maketrans(\"\",\"\",string.punctuation))\n",
        "print(cleaned_text3)\n",
        "cleaned_text4=\" \".join(cleaned_text3.split())\n",
        "print(cleaned_text4)\n",
        "\n",
        "#özel karakterleri kaldırma - regular expression / remove the special characters\n",
        "text2=\"Hello && World$ 2025/%\"\n",
        "cleaned_text5=re.sub(r\"[^A-Za-z0-9]\",\" \",text2)\n",
        "cleaned_text6=\" \".join(cleaned_text5.split())\n",
        "print(cleaned_text6)\n",
        "\n",
        "\n",
        "#yazım yanlışlarını düzeltme textblob / fix the sentences\n",
        "text3=\"Helıo Wirlt! 2025\"\n",
        "cleaned_text7=str(TextBlob(text3).correct())\n",
        "print(cleaned_text7)\n",
        "\n",
        "#url ve html etiketlerini kaldırma / remove the url and html tags\n",
        "text4=\"<div>Hello<div> World! 2025\"\n",
        "cleaned_text8=BeautifulSoup(text4,\"html.parser\").get_text()\n",
        "print(cleaned_text8)\n"
      ]
    },
    {
      "cell_type": "markdown",
      "source": [
        "# New section"
      ],
      "metadata": {
        "id": "KdNZ8x2M1WdU"
      }
    }
  ]
}