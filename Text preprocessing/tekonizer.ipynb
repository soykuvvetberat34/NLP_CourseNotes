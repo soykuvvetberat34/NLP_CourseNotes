{
  "nbformat": 4,
  "nbformat_minor": 0,
  "metadata": {
    "colab": {
      "provenance": [],
      "gpuType": "T4",
      "toc_visible": true,
      "authorship_tag": "ABX9TyOj5QUrSTdfrx76AbRy32ZK",
      "include_colab_link": true
    },
    "kernelspec": {
      "name": "python3",
      "display_name": "Python 3"
    },
    "language_info": {
      "name": "python"
    },
    "accelerator": "GPU"
  },
  "cells": [
    {
      "cell_type": "markdown",
      "metadata": {
        "id": "view-in-github",
        "colab_type": "text"
      },
      "source": [
        "<a href=\"https://colab.research.google.com/github/soykuvvetberat34/NLP_CourseNotes/blob/main/tekonizer.ipynb\" target=\"_parent\"><img src=\"https://colab.research.google.com/assets/colab-badge.svg\" alt=\"Open In Colab\"/></a>"
      ]
    },
    {
      "cell_type": "code",
      "execution_count": 1,
      "metadata": {
        "id": "-wIfbYTDXTH7",
        "colab": {
          "base_uri": "https://localhost:8080/"
        },
        "outputId": "06b59a3a-9613-46af-bd20-706810cd4e53"
      },
      "outputs": [
        {
          "output_type": "stream",
          "name": "stderr",
          "text": [
            "[nltk_data] Downloading package punkt_tab to /root/nltk_data...\n",
            "[nltk_data]   Unzipping tokenizers/punkt_tab.zip.\n"
          ]
        },
        {
          "output_type": "stream",
          "name": "stdout",
          "text": [
            "['Hello', 'World', '!', 'I', 'am', 'Berat', 'SOYKUVVET']\n",
            "['Hello World!', 'I am Berat SOYKUVVET']\n"
          ]
        }
      ],
      "source": [
        "import nltk\n",
        "nltk.download(\"punkt_tab\")#tokenizer paketi\n",
        "text=\"Hello World! I am Berat SOYKUVVET\"\n",
        "\n",
        "#kelimeleri tokenlara ayırma / Split the words to tokens\n",
        "word_tokens=nltk.word_tokenize(text)\n",
        "\n",
        "\n",
        "#cümleleri tokenlara ayırma / split the sentences to tokens\n",
        "sentence_tokens=nltk.sent_tokenize(text)\n",
        "\n",
        "\n",
        "print(word_tokens)\n",
        "print(sentence_tokens)"
      ]
    }
  ]
}