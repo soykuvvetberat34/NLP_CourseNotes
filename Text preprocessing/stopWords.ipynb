{
  "nbformat": 4,
  "nbformat_minor": 0,
  "metadata": {
    "colab": {
      "provenance": [],
      "gpuType": "T4",
      "toc_visible": true,
      "authorship_tag": "ABX9TyMQZIkmI60eJdJ3cF5YjGEc",
      "include_colab_link": true
    },
    "kernelspec": {
      "name": "python3",
      "display_name": "Python 3"
    },
    "language_info": {
      "name": "python"
    },
    "accelerator": "GPU"
  },
  "cells": [
    {
      "cell_type": "markdown",
      "metadata": {
        "id": "view-in-github",
        "colab_type": "text"
      },
      "source": [
        "<a href=\"https://colab.research.google.com/github/soykuvvetberat34/NLP_CourseNotes/blob/main/stopWords.ipynb\" target=\"_parent\"><img src=\"https://colab.research.google.com/assets/colab-badge.svg\" alt=\"Open In Colab\"/></a>"
      ]
    },
    {
      "cell_type": "code",
      "execution_count": 1,
      "metadata": {
        "id": "-wIfbYTDXTH7",
        "outputId": "6b8b258c-8483-4c8a-f39c-bbdbd1399142",
        "colab": {
          "base_uri": "https://localhost:8080/"
        }
      },
      "outputs": [
        {
          "output_type": "stream",
          "name": "stdout",
          "text": [
            "['example', 'removing', 'stop', 'words', 'text']\n",
            "['Merhaba', 'dünya', 'güzel', 'güzel']\n"
          ]
        },
        {
          "output_type": "stream",
          "name": "stderr",
          "text": [
            "[nltk_data] Downloading package stopwords to /root/nltk_data...\n",
            "[nltk_data]   Unzipping corpora/stopwords.zip.\n"
          ]
        }
      ],
      "source": [
        "import nltk\n",
        "from nltk.corpus import stopwords\n",
        "\n",
        "nltk.download(\"stopwords\")\n",
        "#stop word listesi eng\n",
        "stop_word_eng= set(stopwords.words(\"english\"))\n",
        "stop_word_tr=set(stopwords.words(\"turkish\"))\n",
        "text_eng=\"This is an example of removing stop words from a text\"\n",
        "text_tr=\"Merhaba dünya güzel ve güzel\"\n",
        "filtered_words_eng=[word for word in text_eng.split() if word.lower() not in stop_word_eng]\n",
        "filtered_words_tr=[word2 for word2 in text_tr.split() if word2.lower() not in stop_word_tr]\n",
        "print(filtered_words_eng)\n",
        "print(filtered_words_tr)\n",
        "\n",
        "\n",
        "\n",
        "\n",
        "\n",
        "\n",
        "\n",
        "\n",
        "\n",
        "\n",
        "\n"
      ]
    }
  ]
}