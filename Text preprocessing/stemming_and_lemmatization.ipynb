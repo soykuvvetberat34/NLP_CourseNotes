{
  "nbformat": 4,
  "nbformat_minor": 0,
  "metadata": {
    "colab": {
      "provenance": [],
      "gpuType": "T4",
      "toc_visible": true,
      "authorship_tag": "ABX9TyP3vAQ0QVfh/9KwAIs483fV",
      "include_colab_link": true
    },
    "kernelspec": {
      "name": "python3",
      "display_name": "Python 3"
    },
    "language_info": {
      "name": "python"
    },
    "accelerator": "GPU"
  },
  "cells": [
    {
      "cell_type": "markdown",
      "metadata": {
        "id": "view-in-github",
        "colab_type": "text"
      },
      "source": [
        "<a href=\"https://colab.research.google.com/github/soykuvvetberat34/NLP_CourseNotes/blob/main/stemming_and_lemmatization.ipynb\" target=\"_parent\"><img src=\"https://colab.research.google.com/assets/colab-badge.svg\" alt=\"Open In Colab\"/></a>"
      ]
    },
    {
      "cell_type": "code",
      "execution_count": 1,
      "metadata": {
        "id": "-wIfbYTDXTH7",
        "outputId": "a49d24fb-c4ed-4156-dd0b-064a445bbdf8",
        "colab": {
          "base_uri": "https://localhost:8080/"
        }
      },
      "outputs": [
        {
          "output_type": "stream",
          "name": "stderr",
          "text": [
            "[nltk_data] Downloading package wordnet to /root/nltk_data...\n"
          ]
        },
        {
          "output_type": "stream",
          "name": "stdout",
          "text": [
            "['run', 'runner', 'ran', 'run', 'better', 'go', 'went']\n",
            "['run', 'runner', 'run', 'run', 'better', 'go', 'go']\n"
          ]
        }
      ],
      "source": [
        "#Stemming ve Lemmatization\n",
        "import nltk\n",
        "nltk.download(\"wordnet\")#kelimeler arasındaki anlamsal ilişkileri barındıran bir veri seti\n",
        "\n",
        "#kök analiz\n",
        "from nltk.stem import PorterStemmer\n",
        "ps=PorterStemmer()#kök analiz\n",
        "words=[\"running\",\"runner\",\"ran\",\"runs\",\"better\",\"go\",\"went\"]\n",
        "stems=[ps.stem(w) for w in words]#kökler / tek satırda işlemi gerçekleştirdik\n",
        "print(stems)\n",
        "\n",
        "#gövde analiz\n",
        "from nltk.stem import WordNetLemmatizer\n",
        "lemma=WordNetLemmatizer()\n",
        "lemmas=[lemma.lemmatize(w,pos=\"v\") for w in words]#pos=v -> verb\n",
        "print(lemmas)"
      ]
    }
  ]
}