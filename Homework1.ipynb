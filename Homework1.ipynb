{
  "nbformat": 4,
  "nbformat_minor": 0,
  "metadata": {
    "colab": {
      "provenance": [],
      "gpuType": "T4",
      "toc_visible": true,
      "authorship_tag": "ABX9TyOJobDKqZpfYZgntfPhaqCO",
      "include_colab_link": true
    },
    "kernelspec": {
      "name": "python3",
      "display_name": "Python 3"
    },
    "language_info": {
      "name": "python"
    },
    "accelerator": "GPU"
  },
  "cells": [
    {
      "cell_type": "markdown",
      "metadata": {
        "id": "view-in-github",
        "colab_type": "text"
      },
      "source": [
        "<a href=\"https://colab.research.google.com/github/soykuvvetberat34/NLP_CourseNotes/blob/main/Homework1.ipynb\" target=\"_parent\"><img src=\"https://colab.research.google.com/assets/colab-badge.svg\" alt=\"Open In Colab\"/></a>"
      ]
    },
    {
      "cell_type": "code",
      "execution_count": 1,
      "metadata": {
        "id": "-wIfbYTDXTH7"
      },
      "outputs": [],
      "source": [
        "encrypted_text=\"Hello%&+ World&%+ Runing And/ You/ good&+^24556 better\"\n",
        "import string\n",
        "from textblob import TextBlob\n",
        "import re\n",
        "import nltk\n",
        "from nltk.corpus import stopwords\n",
        "from nltk.stem import PorterStemmer\n",
        "from nltk.stem import WordNetLemmatizer\n",
        "#veri temizleme\n",
        "text=encrypted_text.translate(str.maketrans(\" \",\" \",string.punctuation))\n",
        "text=re.sub(r\"[^A-Za-z]\",\" \",text)\n",
        "text=\" \".join(text.split())\n",
        "text=text.lower()\n",
        "\n"
      ]
    },
    {
      "cell_type": "code",
      "source": [
        "#tokenize işlemi cümle ve kelimeleri ayırma işlemi\n",
        "nltk.download(\"punkt_tab\")\n",
        "word_token=nltk.word_tokenize(text)\n",
        "sent_token=nltk.sent_tokenize(text)\n",
        "\n"
      ],
      "metadata": {
        "colab": {
          "base_uri": "https://localhost:8080/"
        },
        "id": "fl5r_EdVpT6g",
        "outputId": "decb26bd-5ccb-4998-e042-4c790d9207c3"
      },
      "execution_count": 2,
      "outputs": [
        {
          "output_type": "stream",
          "name": "stderr",
          "text": [
            "[nltk_data] Downloading package punkt_tab to /root/nltk_data...\n",
            "[nltk_data]   Unzipping tokenizers/punkt_tab.zip.\n"
          ]
        }
      ]
    },
    {
      "cell_type": "code",
      "source": [
        "#kök ve gövde analiz\n",
        "nltk.download(\"wordnet\")\n",
        "ps=PorterStemmer()\n",
        "lemma=WordNetLemmatizer()\n",
        "stems=[]\n",
        "for i in word_token:\n",
        "    stems.append(ps.stem(i))\n",
        "\n",
        "lemmas=[lemma.lemmatize(w,pos=\"v\") for w in word_token]\n",
        "\n",
        "\n"
      ],
      "metadata": {
        "colab": {
          "base_uri": "https://localhost:8080/"
        },
        "id": "Vva_kYALpWuO",
        "outputId": "b8e7613c-44b3-4e14-eacc-ccc1e0fd605e"
      },
      "execution_count": 5,
      "outputs": [
        {
          "output_type": "stream",
          "name": "stderr",
          "text": [
            "[nltk_data] Downloading package wordnet to /root/nltk_data...\n"
          ]
        }
      ]
    },
    {
      "cell_type": "code",
      "source": [
        "#stop words\n",
        "nltk.download(\"stopwords\")\n",
        "eng_sw=set(stopwords.words(\"english\"))\n",
        "filtered_words=[w for w in word_token if w not in eng_sw]\n",
        "\n",
        "print(filtered_words)\n"
      ],
      "metadata": {
        "colab": {
          "base_uri": "https://localhost:8080/"
        },
        "id": "jR_BbdZEpYdy",
        "outputId": "933f28b4-951f-4d48-ccde-22257ab2cbf4"
      },
      "execution_count": 6,
      "outputs": [
        {
          "output_type": "stream",
          "name": "stdout",
          "text": [
            "['hello', 'world', 'runing', 'good', 'better']\n"
          ]
        },
        {
          "output_type": "stream",
          "name": "stderr",
          "text": [
            "[nltk_data] Downloading package stopwords to /root/nltk_data...\n",
            "[nltk_data]   Unzipping corpora/stopwords.zip.\n"
          ]
        }
      ]
    }
  ]
}